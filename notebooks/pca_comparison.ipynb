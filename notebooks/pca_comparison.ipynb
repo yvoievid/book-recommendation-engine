{
 "cells": [
  {
   "cell_type": "code",
   "execution_count": null,
   "id": "0ecf78e4",
   "metadata": {},
   "outputs": [],
   "source": [
    "import pandas as pd\n",
    "import numpy as np\n",
    "import matplotlib.pyplot as plt\n",
    "from sentence_transformers import SentenceTransformer\n",
    "from sklearn.decomposition import PCA\n",
    "\n",
    "df = pd.read_csv('categories.csv', names=['Category'])\n",
    "categories = df['Category'].tolist()\n",
    "\n",
    "model_base = SentenceTransformer(\"microsoft/mpnet-base\")\n",
    "model_ft   = SentenceTransformer(\"yuriivoievidka/microsoft_mpnet-base-librarian\")\n",
    "\n",
    "emb_base = model_base.encode(categories, batch_size=16, show_progress_bar=True)\n",
    "emb_ft   = model_ft.encode(categories,   batch_size=16, show_progress_bar=True)\n",
    "\n",
    "combined = np.vstack([emb_base, emb_ft])\n",
    "pca = PCA(n_components=2).fit(combined)\n",
    "\n",
    "proj_base = pca.transform(emb_base)\n",
    "proj_ft   = pca.transform(emb_ft)\n",
    "\n",
    "plt.figure()\n",
    "plt.scatter(proj_base[:, 0], proj_base[:, 1])\n",
    "\n",
    "plt.title(\"2D PCA Projection – Base Model\")\n",
    "plt.xlabel(\"PC1\")\n",
    "plt.ylabel(\"PC2\")\n",
    "plt.show()\n",
    "\n",
    "plt.figure()\n",
    "plt.scatter(proj_ft[:, 0], proj_ft[:, 1])\n",
    "\n",
    "plt.title(\"2D PCA Projection – Fine‑tuned Model\")\n",
    "plt.xlabel(\"PC1\")\n",
    "plt.ylabel(\"PC2\")\n",
    "plt.show()\n"
   ]
  },
  {
   "cell_type": "code",
   "execution_count": null,
   "id": "4e7b92dd",
   "metadata": {},
   "outputs": [],
   "source": []
  }
 ],
 "metadata": {
  "kernelspec": {
   "display_name": "Python 3",
   "language": "python",
   "name": "python3"
  },
  "language_info": {
   "codemirror_mode": {
    "name": "ipython",
    "version": 3
   },
   "file_extension": ".py",
   "mimetype": "text/x-python",
   "name": "python",
   "nbconvert_exporter": "python",
   "pygments_lexer": "ipython3",
   "version": "3.9.2"
  }
 },
 "nbformat": 4,
 "nbformat_minor": 5
}
